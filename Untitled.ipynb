{
 "cells": [
  {
   "cell_type": "code",
   "execution_count": 10,
   "id": "9dca951b-79bf-405e-8f2a-54035776df77",
   "metadata": {},
   "outputs": [],
   "source": [
    "#Pacotes Necessários\n",
    "from scipy import *\n",
    "import pandas as pd\n"
   ]
  },
  {
   "cell_type": "code",
   "execution_count": 34,
   "id": "914d3490-f61d-4f71-925f-0380d56a6324",
   "metadata": {},
   "outputs": [],
   "source": [
    "lista_notas = [8,7,7,7,7,8,5,2,4,4,10,10,10,10,6,7,7,7,8]\n",
    "lista_idade = [10,11,12,9,10,11,10,10,10,10,11,11,10,9,10,10,11,11,10,10]"
   ]
  },
  {
   "cell_type": "code",
   "execution_count": 30,
   "id": "05f2d3b1-4ab2-4672-b717-befd57e42a18",
   "metadata": {},
   "outputs": [
    {
     "data": {
      "text/plain": [
       "[8, 7, 7, 7, 7, 8, 5, 2, 4, 4, 10, 10, 10, 10, 6, 7, 7, 7, 8]"
      ]
     },
     "execution_count": 30,
     "metadata": {},
     "output_type": "execute_result"
    }
   ],
   "source": [
    "lista_notas"
   ]
  },
  {
   "cell_type": "code",
   "execution_count": 36,
   "id": "e4ab7e0f-fba1-44ea-89ba-4a8cf568a595",
   "metadata": {},
   "outputs": [
    {
     "data": {
      "text/plain": [
       "[10, 11, 12, 9, 10, 11, 10, 10, 10, 10, 11, 11, 10, 9, 10, 10, 11, 11, 10, 10]"
      ]
     },
     "execution_count": 36,
     "metadata": {},
     "output_type": "execute_result"
    }
   ],
   "source": [
    "lista_idade"
   ]
  },
  {
   "cell_type": "code",
   "execution_count": null,
   "id": "5381b351-3f1a-4571-844d-9b030273b406",
   "metadata": {},
   "outputs": [],
   "source": []
  },
  {
   "cell_type": "code",
   "execution_count": null,
   "id": "04ec3b83-e290-41e6-8847-3bc840ab9e0b",
   "metadata": {},
   "outputs": [],
   "source": []
  },
  {
   "cell_type": "code",
   "execution_count": null,
   "id": "1fcf6a7d-4289-4a87-a32b-08b9bf5929ee",
   "metadata": {},
   "outputs": [],
   "source": []
  },
  {
   "cell_type": "code",
   "execution_count": null,
   "id": "949d72f9-85ab-47b4-ba5c-f7a7ca4b5653",
   "metadata": {},
   "outputs": [],
   "source": []
  }
 ],
 "metadata": {
  "kernelspec": {
   "display_name": "Python 3 (ipykernel)",
   "language": "python",
   "name": "python3"
  },
  "language_info": {
   "codemirror_mode": {
    "name": "ipython",
    "version": 3
   },
   "file_extension": ".py",
   "mimetype": "text/x-python",
   "name": "python",
   "nbconvert_exporter": "python",
   "pygments_lexer": "ipython3",
   "version": "3.12.4"
  }
 },
 "nbformat": 4,
 "nbformat_minor": 5
}
